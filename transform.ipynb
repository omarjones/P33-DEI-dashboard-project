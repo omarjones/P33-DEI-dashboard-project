{
 "cells": [
  {
   "cell_type": "markdown",
   "id": "bc892cec-fff6-42a6-9326-96dc5f56293f",
   "metadata": {},
   "source": [
    "# Transformation (output)\n",
    "\n",
    "This notebook load our previously-ingested data and outputs Plotly figure JSON. This output can then be compiled into the website and rendered with Plotly.js"
   ]
  },
  {
   "cell_type": "code",
   "execution_count": null,
   "id": "ceb5d70b-7566-4ce5-81d7-f4644eebadd3",
   "metadata": {
    "tags": []
   },
   "outputs": [],
   "source": [
    "pip install pandas numpy pyarrow plotly"
   ]
  },
  {
   "cell_type": "code",
   "execution_count": null,
   "id": "f25ed790-1ed0-4ea0-9d3a-76124965e489",
   "metadata": {},
   "outputs": [],
   "source": [
    "from create_figure_json import create_figure\n",
    "\n",
    "fig = create_figure()\n",
    "display(fig)"
   ]
  }
 ],
 "metadata": {
  "kernelspec": {
   "display_name": "Python 3 (ipykernel)",
   "language": "python",
   "name": "python3"
  },
  "language_info": {
   "codemirror_mode": {
    "name": "ipython",
    "version": 3
   },
   "file_extension": ".py",
   "mimetype": "text/x-python",
   "name": "python",
   "nbconvert_exporter": "python",
   "pygments_lexer": "ipython3",
   "version": "3.10.6"
  },
  "vscode": {
   "interpreter": {
    "hash": "916dbcbb3f70747c44a77c7bcd40155683ae19c65e1c03b4aa3499c5328201f1"
   }
  }
 },
 "nbformat": 4,
 "nbformat_minor": 5
}
