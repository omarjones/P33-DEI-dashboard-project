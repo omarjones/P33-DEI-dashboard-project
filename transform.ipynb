{
 "cells": [
  {
   "cell_type": "markdown",
   "id": "bc892cec-fff6-42a6-9326-96dc5f56293f",
   "metadata": {},
   "source": [
    "# Transformation (output)\n",
    "\n",
    "This notebook load our previously-ingested data and outputs Plotly figure JSON. This output can then be compiled into the website and rendered with Plotly.js"
   ]
  },
  {
   "cell_type": "code",
   "execution_count": null,
   "id": "ceb5d70b-7566-4ce5-81d7-f4644eebadd3",
   "metadata": {},
   "outputs": [],
   "source": [
    "pip install pandas numpy pyarrow plotly"
   ]
  },
  {
   "cell_type": "code",
   "execution_count": null,
   "id": "43a26bdc-2719-494f-9055-71b1b3b5f0c2",
   "metadata": {},
   "outputs": [],
   "source": [
    "import pandas\n",
    "\n",
    "df = pandas.read_parquet('data/parametric.parquet')\n",
    "df"
   ]
  },
  {
   "cell_type": "code",
   "execution_count": null,
   "id": "f29f890c-cbd1-40c1-b717-fb69266b3317",
   "metadata": {},
   "outputs": [],
   "source": [
    "import plotly.express as px\n",
    "import plotly\n",
    "\n",
    "uni = df.loc[df['Demographic'] == 'usa universities enrollment (ipeds)']\n",
    "display(uni)"
   ]
  },
  {
   "cell_type": "code",
   "execution_count": null,
   "id": "c8ef2fd2-8b85-4fc0-b8e6-010c40cbfbe5",
   "metadata": {},
   "outputs": [],
   "source": [
    "fig = px.bar(uni.filter(items=['var_yr', 'var_value'], axis=1))\n",
    "display(fig)"
   ]
  },
  {
   "cell_type": "code",
   "execution_count": null,
   "id": "608e6292-0edc-454c-a3b7-c8d6c2cb0b95",
   "metadata": {},
   "outputs": [],
   "source": [
    "plotly.io.write_json(fig, 'data/figure.json')\n",
    "# plotly.io.write_html(fig, 'data/figure.svelte', include_plotlyjs=False, full_html=False)"
   ]
  }
 ],
 "metadata": {
  "kernelspec": {
   "display_name": "Python 3 (ipykernel)",
   "language": "python",
   "name": "python3"
  },
  "language_info": {
   "codemirror_mode": {
    "name": "ipython",
    "version": 3
   },
   "file_extension": ".py",
   "mimetype": "text/x-python",
   "name": "python",
   "nbconvert_exporter": "python",
   "pygments_lexer": "ipython3",
   "version": "3.10.5"
  },
  "vscode": {
   "interpreter": {
    "hash": "916dbcbb3f70747c44a77c7bcd40155683ae19c65e1c03b4aa3499c5328201f1"
   }
  }
 },
 "nbformat": 4,
 "nbformat_minor": 5
}
