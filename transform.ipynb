{
 "cells": [
  {
   "cell_type": "markdown",
   "id": "bc892cec-fff6-42a6-9326-96dc5f56293f",
   "metadata": {},
   "source": [
    "# Transformation (output)\n",
    "\n",
    "This notebook load our previously-ingested data and outputs Plotly figure JSON. This output can then be compiled into the website and rendered with Plotly.js"
   ]
  },
  {
   "cell_type": "code",
   "execution_count": null,
   "id": "ceb5d70b-7566-4ce5-81d7-f4644eebadd3",
   "metadata": {
    "tags": []
   },
   "outputs": [],
   "source": [
    "pip install pandas numpy pyarrow plotly"
   ]
  },
  {
   "cell_type": "code",
   "execution_count": null,
   "id": "e8a48ea3-582f-4356-8edf-428e161203c9",
   "metadata": {},
   "outputs": [],
   "source": [
    "%load_ext autoreload\n",
    "%autoreload 1\n",
    "%aimport create_figure_json"
   ]
  },
  {
   "cell_type": "code",
   "execution_count": null,
   "id": "161cf64a-4237-4779-838c-eb0b246f4f5b",
   "metadata": {},
   "outputs": [],
   "source": [
    "import pandas as pd\n",
    "import plotly.express as px\n",
    "import plotly.io as pio\n",
    "import plotly.graph_objects as go\n",
    "\n",
    "pio.templates['p33'] = go.layout.Template(\n",
    "    # layout_annotations=[\n",
    "    #     dict(\n",
    "    #         name=\"draft watermark\",\n",
    "    #         text=\"DRAFT\",\n",
    "    #         textangle=-30,\n",
    "    #         opacity=0.1,\n",
    "    #         font=dict(color=\"black\", size=100),\n",
    "    #         xref=\"paper\",\n",
    "    #         yref=\"paper\",\n",
    "    #         x=0.5,\n",
    "    #         y=0.5,\n",
    "    #         showarrow=False,\n",
    "    #     )\n",
    "    # ]\n",
    ")\n",
    "print(pio.templates['p33'].layout)\n",
    "\n",
    "pio.templates.default = \"p33\""
   ]
  },
  {
   "cell_type": "code",
   "execution_count": null,
   "id": "f25ed790-1ed0-4ea0-9d3a-76124965e489",
   "metadata": {},
   "outputs": [],
   "source": [
    "from create_figure_json import create_figure\n",
    "\n",
    "fig = create_figure()\n",
    "display(fig)"
   ]
  },
  {
   "cell_type": "code",
   "execution_count": null,
   "id": "c9899d34-4bdb-441e-9518-824458c3ce60",
   "metadata": {},
   "outputs": [],
   "source": []
  }
 ],
 "metadata": {
  "kernelspec": {
   "display_name": "Python 3 (ipykernel)",
   "language": "python",
   "name": "python3"
  },
  "language_info": {
   "codemirror_mode": {
    "name": "ipython",
    "version": 3
   },
   "file_extension": ".py",
   "mimetype": "text/x-python",
   "name": "python",
   "nbconvert_exporter": "python",
   "pygments_lexer": "ipython3",
   "version": "3.10.6"
  },
  "vscode": {
   "interpreter": {
    "hash": "916dbcbb3f70747c44a77c7bcd40155683ae19c65e1c03b4aa3499c5328201f1"
   }
  }
 },
 "nbformat": 4,
 "nbformat_minor": 5
}
