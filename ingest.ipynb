{
 "cells": [
  {
   "cell_type": "markdown",
   "id": "570c1ac2-3a3a-44f2-a121-a0168936c430",
   "metadata": {},
   "source": [
    "# Data ingestion\n",
    "\n",
    "Currently, this notebook reads raw data files from the local filesystem and applies some basic transformations. In the future, we might also download files from their upstream source (e.g. CPS webserver).\n",
    "\n",
    "**Note:** this is an R notebook, so make sure you're using the R Jupyter Kernel (not Python)"
   ]
  },
  {
   "cell_type": "code",
   "execution_count": null,
   "id": "7faaff98",
   "metadata": {
    "vscode": {
     "languageId": "plaintext"
    }
   },
   "outputs": [],
   "source": [
    "source(\"ingest.r\")\n",
    "df_DEI_parametric_tidy"
   ]
  }
 ],
 "metadata": {
  "kernelspec": {
   "display_name": "R",
   "language": "R",
   "name": "ir"
  },
  "language_info": {
   "codemirror_mode": "r",
   "file_extension": ".r",
   "mimetype": "text/x-r-source",
   "name": "R",
   "pygments_lexer": "r",
   "version": "4.1.3"
  }
 },
 "nbformat": 4,
 "nbformat_minor": 5
}
