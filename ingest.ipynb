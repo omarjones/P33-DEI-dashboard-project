{
 "cells": [
  {
   "cell_type": "markdown",
   "id": "570c1ac2-3a3a-44f2-a121-a0168936c430",
   "metadata": {},
   "source": [
    "# Data ingestion\n",
    "\n",
    "Currently, this notebook reads raw data files from the local filesystem and applies some basic transformations. In the future, we might also download files from their upstream source (e.g. CPS webserver).\n",
    "\n",
    "**Note:** this is an R notebook, so make sure you're using the R Jupyter Kernel (not Python)"
   ]
  },
  {
   "cell_type": "code",
   "execution_count": null,
   "id": "1ff52e7a-0f3c-404f-a750-e805ccb752aa",
   "metadata": {
    "vscode": {
     "languageId": "r"
    }
   },
   "outputs": [],
   "source": [
    "list.of.packages <- c(\n",
    "    'tidyverse',\n",
    "    'dplyr',\n",
    "    'tidyr',\n",
    "    'ggfortify',\n",
    "    'stargazer',\n",
    "    'pscl'\n",
    "    # 'arrow'\n",
    ")\n",
    "new.packages <- list.of.packages[!(list.of.packages %in% installed.packages()[,\"Package\"])]\n",
    "if(length(new.packages)) install.packages(new.packages)"
   ]
  },
  {
   "cell_type": "code",
   "execution_count": null,
   "id": "73476ed9-ec7b-4c49-88f5-56afe709f02c",
   "metadata": {
    "vscode": {
     "languageId": "r"
    }
   },
   "outputs": [],
   "source": [
    "options(\n",
    "  HTTPUserAgent =\n",
    "    sprintf(\n",
    "      \"R/%s R (%s)\",\n",
    "      getRversion(),\n",
    "      paste(getRversion(), R.version[\"platform\"], R.version[\"arch\"], R.version[\"os\"])\n",
    "    )\n",
    ")\n",
    "\n",
    "if(!(\"arrow\" %in% installed.packages()[,\"Package\"])) install.packages(\"arrow\", repos = \"https://packagemanager.rstudio.com/all/__linux__/focal/latest\")\n",
    "\n",
    "append(list.of.packages, \"arrow\")\n",
    "\n",
    "lapply(list.of.packages, library, character.only = TRUE)\n",
    "library(\"arrow\")"
   ]
  },
  {
   "cell_type": "code",
   "execution_count": null,
   "id": "c7a5ddab-d8e5-4766-ad8e-28d41c7637bb",
   "metadata": {
    "vscode": {
     "languageId": "r"
    }
   },
   "outputs": [],
   "source": [
    "write_parquet"
   ]
  },
  {
   "cell_type": "code",
   "execution_count": null,
   "id": "d87651ec-a089-41e9-9813-af369e439ba8",
   "metadata": {
    "vscode": {
     "languageId": "r"
    }
   },
   "outputs": [],
   "source": [
    "# library(\"tidyverse\")\n",
    "# library(\"dplyr\")\n",
    "# library(\"tidyr\")\n",
    "# library('ggfortify')\n",
    "# library('stargazer')\n",
    "# library('pscl')"
   ]
  },
  {
   "cell_type": "code",
   "execution_count": null,
   "id": "5a65813c-6f7a-4b06-9ed1-4faaabe5f0f0",
   "metadata": {
    "vscode": {
     "languageId": "r"
    }
   },
   "outputs": [],
   "source": [
    "df_DEI_demo <- read.csv('DEI_CSV/df_demo_08102022.csv')\n",
    "df_DEI_parametric <- read.csv('DEI_CSV/df_parametrics_08082022.csv')"
   ]
  },
  {
   "cell_type": "code",
   "execution_count": null,
   "id": "de44e8b0-e780-415d-afc3-c51e26bbb9cf",
   "metadata": {
    "vscode": {
     "languageId": "r"
    }
   },
   "outputs": [],
   "source": [
    "#2 Clean raw Dataset\n",
    "\n",
    "## 2.1 df_DEI_parametric\n",
    "\n",
    "# lower cases in demo col\n",
    "df_DEI_parametric_lower <- df_DEI_parametric %>%\n",
    "  mutate(Demographic = tolower(Demographic),\n",
    "         var_est = tolower(var_est))\n",
    "\n",
    "# label variables and education stage \n",
    "colnames(df_DEI_parametric_lower)\n",
    "\n",
    "df_DEI_parametric_label <- df_DEI_parametric_lower %>%\n",
    "  mutate(var_key = case_when(\n",
    "\n",
    "    # uni and top uni   \n",
    "    str_detect(Demographic,\"usa degree conferra\") ~ \"total_confer\",\n",
    "    str_detect(Demographic,\"universities enrollment\") ~ \"total_enrol\",\n",
    "    str_detect(Demographic,\"universities 2022 enrollment\") ~ \"total_enrol\",\n",
    "    str_detect(Demographic,\"universities conferral\") ~ \"total_confer\",\n",
    "    str_detect(Demographic,\"mit enrollment\") ~ \"t3_mit_total_enrol\",  \n",
    "    str_detect(Demographic,\"mit cs enrollment\") ~ \"t3_mit_cs_enrol\",   \n",
    "    str_detect(Demographic,\"mellon enrollment\") ~ \"t3_mellon_total_enrol\",  \n",
    "    str_detect(Demographic,\"carnegie mellon cs enrollment\") ~ \"t3_mellon_cs_enrol\",\n",
    "    str_detect(Demographic,\"stanford enrollment\") ~ \"t3_stanford_total_enrol\",\n",
    "    str_detect(Demographic,\"stanford cs enrollment\") ~ \"t3_stanford_cs_enrol\",\n",
    "    str_detect(Demographic,\"top three illinois universities cs 2021 conferral\") ~ \"t3_cs_confer\",\n",
    "    str_detect(Demographic,\"top three usa universities cs conferral\") ~ \"t3_cs_confer\",\n",
    "    str_detect(Demographic,\"top three usa universities cs conferral\") ~ \"t3_cs_confer\", \n",
    "    str_detect(Demographic,\"top three illinois universities cs 2022 enrollment\") ~ \"t3_cs_enrol\", \n",
    "    \n",
    "    # ap cs \n",
    "    str_detect(Demographic,\"ap cs pass\") ~ \"apcs_pass\",\n",
    "    str_detect(Demographic,\"ap cs enrollment\") ~ \"apcs_enrol\",\n",
    "    str_detect(Demographic,\"ap cs enroll\") ~ \"apcs_enrol\",\n",
    "    str_detect(Demographic,\"ap cs scored 3 or 4 \") ~ \"apcs_score34\",\n",
    "    str_detect(Demographic,\"ap cs scored 5\") ~ \"apcs_score5\", \n",
    "    # cs  \n",
    "    str_detect(Demographic,\"offering cs\") ~ \"cs_classOffered\",\n",
    "    str_detect(Demographic,\"interest in cs\") ~ \"cs_interested\",\n",
    "    str_detect(Demographic,\"cs enrollment\") ~ \"cs_enrol\",\n",
    "    str_detect(Demographic,\"cs/computing enrollment\") ~ \"cs_enrol\",\n",
    "    str_detect(Demographic,\"cs 2022 enrollment\") ~ \"cs_enrol\",\n",
    "    str_detect(Demographic,\"cs 2021 conferral\") ~ \"cs_confer\",\n",
    "    str_detect(Demographic,\"cs degree conferral\") ~ \"cs_confer\",\n",
    "    str_detect(Demographic,\"cs conferral\") ~ \"cs_confer\",\n",
    "    str_detect(Demographic,\"computing conferral\") ~ \"cs_confer\",\n",
    "    \n",
    "    # k-8\n",
    "    str_detect(Demographic,\"k-8 stem magnet school enrollment\") ~ \"mag_stem_enrol\",\n",
    "    \n",
    "    # hs\n",
    "    str_detect(Demographic,\"magnet hs enrollment\") ~ \"mag_enrol\", \n",
    "    str_detect(Demographic,\"hs graduates\") ~ \"total_grad\", \n",
    "    \n",
    "    # sat   \n",
    "    str_detect(Demographic,\"sat exceeds\") ~ \"sat_math_exceeds\",\n",
    "    str_detect(Demographic,\"sat exceeds in math\") ~ \"sat_math_exceeds\", \n",
    "    str_detect(Demographic,\"sat benchmark\") ~ \"sat_bench\", \n",
    "    str_detect(Demographic,\"sat math bench mark \") ~ \"sat_math_bench\", \n",
    "    str_detect(Demographic,\"sat meets and exceeds\") ~ \"sat_math_meet&exceeds\", \n",
    "    \n",
    "    # math   \n",
    "    str_detect(Demographic,\"advanced in math\") ~ \"math_advc\",\n",
    "    str_detect(Demographic,\"math advanced\") ~ \"math_advc\",\n",
    "    str_detect(Demographic,\"proficient in math\") ~ \"math_prof\",\n",
    "    str_detect(Demographic,\"math proficient and above\") ~ \"math_prof&abov\",\n",
    "    str_detect(Demographic,\"below basic in math\") ~ \"math_belowBasic\",\n",
    "    str_detect(Demographic,\"basic in math\") ~ \"math_basic\",\n",
    "\n",
    "    # employment\n",
    "    str_detect(Demographic,\"top 3 highest paying cs jobs\") ~ \"csjob_t3\",\n",
    "    str_detect(Demographic,\"employee demographics\") ~ \"csjob_t11\",\n",
    "    str_detect(Demographic,\"11 top tech jobs\") ~ \"csjob_t11\",\n",
    "    str_detect(Demographic,\"19-24 year olds in tech\") ~ \"csjob_t11_age19to24\",\n",
    "    # internet\n",
    "    str_detect(Demographic,\"aged 5-17 number of students without internet access\") ~ \"NOinternet_age5to17\"\n",
    "    )\n",
    "  ) %>%\n",
    "  \n",
    "  # create educational stage\n",
    "  mutate(var_stage = case_when(str_detect(Demographic,\"4th\") ~ \"k8_4th\",\n",
    "                               str_detect(Demographic,\"5th-8th\") ~ \"k8_5to8th\",\n",
    "                               str_detect(Demographic,\"8th\") ~ \"k8_8th\",\n",
    "                               str_detect(Demographic,\"k-8\") |\n",
    "                                 str_detect(Demographic,\"5-17\") ~ \"k8_total\",\n",
    "     \n",
    "    str_detect(Demographic,\"college\") |\n",
    "      str_detect(Demographic,\"universities\") |\n",
    "        str_detect(Demographic,\"degree\") |\n",
    "          str_detect(Demographic,\"carnegie mellon\") |\n",
    "            str_detect(Demographic,\"mit\") | \n",
    "              str_detect(Demographic,\"stanford\") | \n",
    "                str_detect(Demographic,\"computing\") ~ \"col\",\n",
    "    \n",
    "    str_detect(Demographic,\"sat\") |\n",
    "      str_detect(Demographic,\"ap\") |\n",
    "        str_detect(Demographic,\"9th-12th\") |\n",
    "          str_detect(Demographic,\"hs\") ~ \"hs\",\n",
    "    \n",
    "    str_detect(Demographic,\"employment\") |\n",
    "       str_detect(Demographic,\"employee\") | \n",
    "         str_detect(Demographic,\"jobs\") |\n",
    "           str_detect(Demographic,\"tech\") ~ \"emp\")\n",
    "    \n",
    "  ) %>%  \n",
    "  \n",
    "  ## Create scope var.\n",
    "  mutate(var_scope = case_when(\n",
    "    str_detect(Demographic,\"mit\") | \n",
    "      str_detect(Demographic,\"stanford\") | \n",
    "        str_detect(Demographic,\"carnegie\") ~ \"college\",\n",
    "    \n",
    "    str_detect(Demographic,\"msa\") |\n",
    "      str_detect(Demographic,\"employee\") |\n",
    "        str_detect(Demographic,\"19-24 year olds in tech workforce\") ~ \"region_chi_msa\",\n",
    "    \n",
    "    str_detect(Demographic,\"cps\") | \n",
    "      str_detect(Demographic,\"in math\") ~ \"city_chi\",  \t\n",
    "\n",
    "    str_detect(Demographic,\"illinois\") |\n",
    "        str_detect(Demographic,\"ap cs\") |\n",
    "          str_detect(Demographic,\"ibhe\") |\n",
    "          str_detect(Demographic,\"3 year cs/computing\") ~ \"state_il\", \n",
    "    \n",
    "    str_detect(Demographic,\"usa\") |\n",
    "        str_detect(Demographic,\"number of students\") ~ \"usa\"\n",
    "    )\n",
    "  ) %>%\n",
    "  \n",
    "  select(Demographic,var_yr,var_scope,var_stage,var_key,everything())\n",
    "\n",
    "colnames(df_DEI_parametric_label)\n",
    "\n",
    "# write.csv(df_DEI_parametric_label,\"E:/p33/P33-DEI-dashboard-project/df_DEI_parametric_label_forreview.csv\", row.names = FALSE)\n",
    "\n",
    "# create cols of variables: var_x\n",
    "\n",
    "df_DEI_parametric_mutated <- df_DEI_parametric_label %>%\n",
    "  \n",
    "  ## create var_dim \n",
    "  mutate(var_dim = case_when(\n",
    "    \n",
    "    ### excellence\n",
    "    str_detect(Demographic,\"scored 5\") ~ \"excellence\",\n",
    "    str_detect(Demographic,\"advanced\") ~ \"excellence\",\n",
    "    str_detect(Demographic,\"pass\") ~ \"excellence\",\n",
    "    str_detect(Demographic,\"top three\") ~ \"excellence\",\n",
    "    str_detect(Demographic,\"top\") ~ \"excellence\", \n",
    "    str_detect(Demographic,\"high\") ~ \"excellence\",\n",
    "    str_detect(Demographic,\"exceeds\") ~ \"excellence\",\n",
    "    ### proficiency\n",
    "    str_detect(Demographic,\"scored 3\") ~ \"proficiency\",\n",
    "    str_detect(Demographic,\"proficient\") ~ \"proficiency\",\n",
    "    str_detect(Demographic,\"persistent\") ~ \"proficiency\",\n",
    "    str_detect(Demographic,\"conferral\") ~ \"proficiency\",\n",
    "    str_detect(Demographic,\"benchmark\") ~ \"proficiency\",\n",
    "    str_detect(Demographic,\"meets and exceeds\") ~ \"proficiency\",\n",
    "    str_detect(Demographic,\"employee demographics\") ~ \"proficiency\",\n",
    "    ### access\n",
    "    str_detect(Demographic,\"enrollment\") ~ \"access\",\n",
    "    str_detect(Demographic,\"enroll\") ~ \"access\",\n",
    "\n",
    "    ### access\n",
    "    str_detect(Demographic,\"19-24\") ~ \"access\",\n",
    "    str_detect(Demographic,\"amazon survey\") ~ \"access\",\n",
    "    str_detect(Demographic,\"lack of internet access\") ~ \"access\",\n",
    "    str_detect(Demographic,\"number of students\") ~ \"access\",\n",
    "    str_detect(Demographic,\"amazon survey\") ~ \"access\"\n",
    "    )\n",
    "  ) %>%\n",
    "  \n",
    "  mutate(var_dim = case_when(\n",
    "    ## revision: three top school enrollment to excellence\n",
    "    str_detect(Demographic,\"mit\") ~ \"excellence\",\n",
    "    str_detect(Demographic,\"stanford\") ~ \"excellence\",\n",
    "    str_detect(Demographic,\"carnegie\") ~ \"excellence\",\n",
    "    TRUE ~ var_dim\n",
    "    )\n",
    "  ) %>%\n",
    "  \n",
    "  ## create var_source\n",
    "  mutate(var_source = str_extract(Demographic,\"(?<=\\\\().+?(?=\\\\))\")\n",
    "          ) %>%\n",
    "  \n",
    "  ## create new var for ethnic groups \n",
    "  mutate(Black_Hispanic = Black + Hispanic,\n",
    "         White_Asian = White + Asian) %>%\n",
    "\n",
    "  ## create var_type\n",
    "  mutate(var_type = ifelse(All < 1,'prob','count')) %>%\n",
    "  \n",
    "  ## reorganize the order of cols for pivot_longer\n",
    "  select(All,Black_Hispanic,White_Asian,Black,Hispanic,White,Asian,var_dim,everything())\n",
    "\n",
    "colnames(df_DEI_parametric_mutated)"
   ]
  },
  {
   "cell_type": "code",
   "execution_count": null,
   "id": "341fa32a-92a5-46d3-9021-e089beec0f5e",
   "metadata": {
    "vscode": {
     "languageId": "r"
    }
   },
   "outputs": [],
   "source": [
    "df_DEI_parametric_mutated_long <- df_DEI_parametric_mutated %>%\n",
    "  pivot_longer(1:7,names_to = \"var_ethinc\",values_to = \"var_value\") %>%\n",
    "  mutate(var_ethinc = tolower(var_ethinc))\n",
    "\n",
    "df_DEI_parametric_tidy <- df_DEI_parametric_mutated_long\n",
    "\n",
    "# write.csv(df_DEI_parametric_mutated_long,\"E:/p33/P33-DEI-dashboard-project/df_DEI_parametric_tidy.csv\", row.names = FALSE)"
   ]
  },
  {
   "cell_type": "code",
   "execution_count": null,
   "id": "96585fe5-ec53-4d0d-b4aa-7f9a391e5b60",
   "metadata": {
    "vscode": {
     "languageId": "r"
    }
   },
   "outputs": [],
   "source": [
    "## 2.2 df_DEI_demo\n",
    "\n",
    "df_DEI_demo_long <- df_DEI_demo %>%\n",
    "  mutate(Demographics = tolower(Demographics)) %>%\n",
    "  select(-estimated) %>%\n",
    "  pivot_longer(2:6,\n",
    "               names_to = \"var_ethnic\",\n",
    "               values_to = \"population\") "
   ]
  },
  {
   "cell_type": "code",
   "execution_count": null,
   "id": "861812ce-a67e-4b05-aace-71dcfa04ffd5",
   "metadata": {
    "vscode": {
     "languageId": "r"
    }
   },
   "outputs": [],
   "source": [
    "# create cols of variables: var_x\n",
    "\n",
    "df_DEI_demo_mutated_long <- df_DEI_demo_long %>%\n",
    "  \n",
    "  ## create var. of scope\n",
    "  mutate(var_scope = case_when(\n",
    "    str_detect(Demographics,\"chicago msa\") ~ \"region_chi_msa\", \n",
    "    \n",
    "    str_detect(Demographics,\"cps\") |\n",
    "      str_detect(Demographics,\"chicago\") |\n",
    "        str_detect(Demographics,\"all people in chicago\")~ \"city_chi\",\n",
    "    \n",
    "    str_detect(Demographics,\"illinois\") ~ \"state_il\",\n",
    "    \n",
    "    str_detect(Demographics,\"us\") |\n",
    "      str_detect(Demographics,\"usa\") |\n",
    "        str_detect(Demographics,\"national\") ~ \"usa\" )\n",
    "    ) %>%\n",
    "  \n",
    "  ## educational stage\n",
    "    mutate(var_stage = case_when(\n",
    "      \n",
    "    str_detect(Demographics,\"4th\") |\n",
    "      str_detect(Demographics,\"8th\") |\n",
    "        str_detect(Demographics,\"k-8\") ~ \"k8\",\n",
    "    \n",
    "    str_detect(Demographics,\"9th\") |\n",
    "      str_detect(Demographics,\"10th\") |\n",
    "        str_detect(Demographics,\"11th\") |\n",
    "          str_detect(Demographics,\"12th\") |\n",
    "            str_detect(Demographics,\"sat\") |\n",
    "              str_detect(Demographics,\"highschool\") |\n",
    "                str_detect(Demographics,\"hs\") ~ \"hs\",\n",
    "     \n",
    "    str_detect(Demographics,\"college\") |\n",
    "      str_detect(Demographics,\"degrees\") |\n",
    "        str_detect(Demographics,\"18-24\")  ~ \"col\",\n",
    "    \n",
    "    str_detect(Demographics,\"employee\") |\n",
    "      str_detect(Demographics,\"jobs\") |\n",
    "        str_detect(Demographics,\"20-64\") |\n",
    "          str_detect(Demographics,\"tech\") |\n",
    "            str_detect(Demographics,\"us population\") |\n",
    "              str_detect(Demographics,\"all people\") ~ \"emp\")\n",
    "    )%>%\n",
    "  \n",
    "  ## create var_source\n",
    "  mutate(var_source = str_extract(Demographics,\"(?<=\\\\().+?(?=\\\\))\")\n",
    "          ) %>%\n",
    "  \n",
    "  ## create variable of years\n",
    "  mutate(var_yr_ob = case_when(\n",
    "    str_detect(Demographics,\"2022\") ~ 2022,\n",
    "    str_detect(Demographics,\"2021-2022\") ~ 2021,\n",
    "    str_detect(Demographics,\"2020\") ~ 2020,\n",
    "    str_detect(Demographics,\"2019\") ~ 2019,\n",
    "    TRUE ~ 2021)) %>%\n",
    "  \n",
    "  ## create variable of school types\n",
    "  mutate(var_schoolType = case_when(\n",
    "    str_detect(Demographics,\"cps\") ~ \"cps\",\n",
    "    str_detect(Demographics,\"all\") ~ 'all',\n",
    "    TRUE ~ 'tbc')\n",
    "    ) %>%\n",
    "  \n",
    "  ## create variable of grades\n",
    "  mutate(x = case_when(\n",
    "    str_detect(Demographics,\"4th grade\") ~ \"k8_4th\",\n",
    "    str_detect(Demographics,\"8th grade\") ~ \"k8_8th\",\n",
    "    str_detect(Demographics,\"k-8\") ~ \"k8_total\",\n",
    "    \n",
    "    str_detect(Demographics,\"cps 9th grade\") ~ \"hs_9th\",\n",
    "    str_detect(Demographics,\"cps 10th grade\") ~ \"hs_10th\",\n",
    "    str_detect(Demographics,\"cps 11th grade\") ~ \"hs_11th\",\n",
    "    str_detect(Demographics,\"cps 12th grade\") |\n",
    "      str_detect(Demographics,\"hs seniors\") ~ \"hs_12th\",\n",
    "    str_detect(Demographics,\"hs graduates\") |\n",
    "      str_detect(Demographics,\"us highschool graduates\") ~ \"hs_grads\",\n",
    "    str_detect(Demographics,\"cps hs\") |\n",
    "      str_detect(Demographics,\"all highschool\")|\n",
    "        str_detect(Demographics,\"us highschool population\") ~ \"hs_total\",\n",
    "    str_detect(Demographics,\"sat takers\") ~ \"hs_SATtaker\",\n",
    "    \n",
    "    str_detect(Demographics,\"all college students\") ~ \"col_total\",\n",
    "    str_detect(Demographics,\"all degrees conferred\") ~ \"col_conferred\",\n",
    "    \n",
    "    str_detect(Demographics,\"degree holders\") ~ \"degreeHolders_total\",\n",
    "\n",
    "    str_detect(Demographics,\"us population\") ~ \"national_total\",\n",
    "    str_detect(Demographics,\"all people in chicago \") ~ \"city_total\",\n",
    "    str_detect(Demographics,\"18-24\") ~ \"age_18to24\",\n",
    "    str_detect(Demographics,\"20-64\") ~ \"age_20to64\")\n",
    "  )\n",
    "\n",
    "colnames(df_DEI_demo_mutated_long)"
   ]
  },
  {
   "cell_type": "code",
   "execution_count": null,
   "id": "af0eca0c-6a73-4c5a-8b40-f0ee64bff07b",
   "metadata": {
    "vscode": {
     "languageId": "r"
    }
   },
   "outputs": [],
   "source": [
    "df_DEI_demo_tidy <- df_DEI_demo_mutated_long %>%\n",
    "  rename(note = Demographics,\n",
    "         demographics = x) %>%\n",
    "  filter(note != 'all college students - all cs/computing degree enrollment') %>%\n",
    "  select(demographics,var_schoolType,var_scope,var_ethnic,population,var_yr_ob,note,var_sample,var_source)\n",
    "\n",
    "# write.csv(df_DEI_demo_mutated_long,\"E:/p33/P33-DEI-dashboard-project/df_DEI_demo_tidy_for_review 07281007.csv\", row.names = FALSE)"
   ]
  },
  {
   "cell_type": "code",
   "execution_count": null,
   "id": "0908e770-fcd8-4d84-863c-79b980502c21",
   "metadata": {
    "vscode": {
     "languageId": "r"
    }
   },
   "outputs": [],
   "source": [
    "# 3 Merge into one dataset (TBF)\n",
    "\n",
    "# preparing demo data for merging\n",
    "\n",
    "\n",
    "colnames(df_DEI_demo_tidy)\n",
    "\n",
    "df_DEI_demo_tidy_formerge <- df_DEI_demo_tidy %>%\n",
    "  select(1:6)\n",
    "\n",
    "df_DEI_demo_tidy_formerge$X <- paste('demo',\n",
    "                                     df_DEI_demo_tidy_formerge$var_yr_ob,\n",
    "                                     df_DEI_demo_tidy_formerge$demographics,\n",
    "                                     df_DEI_demo_tidy_formerge$var_schoolType, \n",
    "                                     df_DEI_demo_tidy_formerge$var_scope,\n",
    "                                     df_DEI_demo_tidy_formerge$var_ethnic,\n",
    "                                     sep = \":\") \n",
    "\n",
    "df_DEI_demo_tidy_formerge <- df_DEI_demo_tidy_formerge %>%\n",
    "  select(X,population) %>%\n",
    "  pivot_wider(names_from = X,\n",
    "              values_from = population)\n",
    "\n",
    "colnames(df_DEI_demo_tidy_formerge)"
   ]
  },
  {
   "cell_type": "code",
   "execution_count": null,
   "id": "18e1653f-174e-46ab-b3bc-19fb342f977b",
   "metadata": {
    "vscode": {
     "languageId": "r"
    }
   },
   "outputs": [],
   "source": [
    "# preparing parametric data set for merging\n",
    "\n",
    "colnames(df_DEI_parametric_tidy)\n",
    "\n",
    "df_DEI_parametric_tidy_formerge <- df_DEI_parametric_tidy %>%\n",
    "  filter(!is.na(var_dim)) %>%\n",
    "  select(var_yr,var_dim,var_stage,var_scope,Demographic,var_type,var_value)\n",
    "\n",
    "df_DEI_parametric_tidy_formerge$X <- paste('para',\n",
    "                                     df_DEI_parametric_tidy_formerge$var_yr,\n",
    "                                     df_DEI_parametric_tidy_formerge$var_dim,\n",
    "                                     df_DEI_parametric_tidy_formerge$var_stage,\n",
    "                                     df_DEI_parametric_tidy_formerge$var_scope,\n",
    "                                     df_DEI_parametric_tidy_formerge$Demographic,\n",
    "                                     df_DEI_parametric_tidy_formerge$var_type,\n",
    "                                     sep = \":\") \n",
    "\n",
    "\n",
    "\n",
    "colnames(df_DEI_parametric_tidy_formerge)"
   ]
  },
  {
   "cell_type": "code",
   "execution_count": null,
   "id": "52a0df06-1bab-48be-85e3-7bff9a9fc3b6",
   "metadata": {
    "vscode": {
     "languageId": "r"
    }
   },
   "outputs": [],
   "source": [
    "write_parquet(df_DEI_parametric_tidy, \"data/parametric.parquet\")"
   ]
  }
 ],
 "metadata": {
  "kernelspec": {
   "display_name": "R",
   "language": "R",
   "name": "ir"
  },
  "language_info": {
   "codemirror_mode": "r",
   "file_extension": ".r",
   "mimetype": "text/x-r-source",
   "name": "R",
   "pygments_lexer": "r",
   "version": "4.1.3"
  }
 },
 "nbformat": 4,
 "nbformat_minor": 5
}
