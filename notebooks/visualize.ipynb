{
 "cells": [
  {
   "cell_type": "markdown",
   "id": "bc892cec-fff6-42a6-9326-96dc5f56293f",
   "metadata": {},
   "source": [
    "# Transformation (output)\n",
    "\n",
    "This notebook load our previously-ingested data and outputs Plotly figure JSON. This output can then be compiled into the website and rendered with Plotly.js"
   ]
  },
  {
   "cell_type": "code",
   "execution_count": null,
   "id": "ceb5d70b-7566-4ce5-81d7-f4644eebadd3",
   "metadata": {
    "tags": []
   },
   "outputs": [],
   "source": [
    "pip install -r ../requirements.txt ipykernel"
   ]
  },
  {
   "cell_type": "code",
   "execution_count": null,
   "id": "e8a48ea3-582f-4356-8edf-428e161203c9",
   "metadata": {},
   "outputs": [],
   "source": [
    "%load_ext autoreload\n",
    "%autoreload 1"
   ]
  },
  {
   "cell_type": "code",
   "execution_count": null,
   "id": "b48c7b9d",
   "metadata": {},
   "outputs": [],
   "source": [
    "# Ensure p33py can be imported\n",
    "\n",
    "import sys\n",
    "sys.path.append(\"../\")"
   ]
  },
  {
   "cell_type": "code",
   "execution_count": null,
   "id": "6aeb3bbe",
   "metadata": {},
   "outputs": [],
   "source": [
    "from p33py.data.index import index\n",
    "\n",
    "display(index[index.lifestage == 'k8'])"
   ]
  },
  {
   "cell_type": "code",
   "execution_count": null,
   "id": "1e31ee11",
   "metadata": {},
   "outputs": [],
   "source": [
    "%load_ext autoreload\n",
    "%autoreload\n",
    "\n",
    "from p33py.data.k8.noInt import calculate\n",
    "from p33py.figure import figure\n",
    "from p33py.table import table\n",
    "import plotly.io as pio\n",
    "\n",
    "# prevent transparent backgrounds, so we can see when our IDE is in dark mode\n",
    "pio.templates.default = 'p33'\n",
    "\n",
    "data = calculate()\n",
    "fig = figure(data)\n",
    "table = table(data)\n",
    "# display(data)\n",
    "# print(fig)\n",
    "fig.for_each_annotation(lambda a: a.update(\n",
    "    # xanchor='left',\n",
    "    # yanchor='middle',\n",
    "    # x=-0.075,\n",
    "    # yref='paper',\n",
    "    # textangle=-90,\n",
    "    text=a.text.split('=')[1].replace('city_chi', 'Chicago').replace('usa', 'USA')\n",
    "))\n",
    "# for (i, annotation) in enumerate(fig.select_annotations()):\n",
    "#     y_offset = i\n",
    "#     y_ref = 'y' if i == 0 else f'y{i + 2}'\n",
    "#     fig.update_annotations(selector=annotation, y=y_offset, yref=y_ref)\n",
    "fig.show(config=dict(displayModeBar=False))\n",
    "# display(table)"
   ]
  }
 ],
 "metadata": {
  "kernelspec": {
   "display_name": "Python 3 (ipykernel)",
   "language": "python",
   "name": "python3"
  },
  "language_info": {
   "codemirror_mode": {
    "name": "ipython",
    "version": 3
   },
   "file_extension": ".py",
   "mimetype": "text/x-python",
   "name": "python",
   "nbconvert_exporter": "python",
   "pygments_lexer": "ipython3",
   "version": "3.10.6"
  },
  "vscode": {
   "interpreter": {
    "hash": "d4d1e4263499bec80672ea0156c357c1ee493ec2b1c70f0acce89fc37c4a6abe"
   }
  }
 },
 "nbformat": 4,
 "nbformat_minor": 5
}
