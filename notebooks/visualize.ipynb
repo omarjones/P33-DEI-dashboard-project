{
 "cells": [
  {
   "cell_type": "markdown",
   "id": "bc892cec-fff6-42a6-9326-96dc5f56293f",
   "metadata": {},
   "source": [
    "# Transformation (output)\n",
    "\n",
    "This notebook load our previously-ingested data and outputs Plotly figure JSON. This output can then be compiled into the website and rendered with Plotly.js"
   ]
  },
  {
   "cell_type": "code",
   "execution_count": null,
   "id": "ceb5d70b-7566-4ce5-81d7-f4644eebadd3",
   "metadata": {
    "tags": []
   },
   "outputs": [],
   "source": [
    "pip install ipykernel pandas numpy pyarrow plotly"
   ]
  },
  {
   "cell_type": "code",
   "execution_count": null,
   "id": "e8a48ea3-582f-4356-8edf-428e161203c9",
   "metadata": {},
   "outputs": [],
   "source": [
    "%load_ext autoreload\n",
    "%autoreload 2"
   ]
  },
  {
   "cell_type": "code",
   "execution_count": null,
   "id": "161cf64a-4237-4779-838c-eb0b246f4f5b",
   "metadata": {},
   "outputs": [],
   "source": [
    "from p33py.viz import set_default_theme\n",
    "from p33py.figures import *\n",
    "import plotly.io as pio\n",
    "\n",
    "data_dir=os.path.normpath(f'{os.getcwd()}/../data/')\n",
    "json_path = f'{data_dir}/figure.json'\n",
    "\n",
    "set_default_theme()\n",
    "fig = apcs_score5.figure()\n",
    "display(fig)\n",
    "pio.write_json(fig, json_path)"
   ]
  },
  {
   "cell_type": "code",
   "execution_count": null,
   "id": "9a0a5348",
   "metadata": {},
   "outputs": [],
   "source": [
    "json_path = f'{data_dir}/figure.json'\n",
    "\n",
    "def create_figure():\n",
    "    df = pandas.read_parquet(parquet_path)\n",
    "    uni = df.loc[df['Demographic'] == 'usa universities enrollment (ipeds)']\n",
    "    fig = px.bar(uni.filter(items=['var_yr', 'var_value'], axis=1))\n",
    "    plotly.io.write_json(fig, json_path)\n",
    "fig = create_figure()\n",
    "fig"
   ]
  }
 ],
 "metadata": {
  "kernelspec": {
   "display_name": "Python 3 (ipykernel)",
   "language": "python",
   "name": "python3"
  },
  "language_info": {
   "codemirror_mode": {
    "name": "ipython",
    "version": 3
   },
   "file_extension": ".py",
   "mimetype": "text/x-python",
   "name": "python",
   "nbconvert_exporter": "python",
   "pygments_lexer": "ipython3",
   "version": "3.10.6"
  },
  "vscode": {
   "interpreter": {
    "hash": "d4d1e4263499bec80672ea0156c357c1ee493ec2b1c70f0acce89fc37c4a6abe"
   }
  }
 },
 "nbformat": 4,
 "nbformat_minor": 5
}
