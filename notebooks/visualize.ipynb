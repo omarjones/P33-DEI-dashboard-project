{
 "cells": [
  {
   "cell_type": "markdown",
   "id": "bc892cec-fff6-42a6-9326-96dc5f56293f",
   "metadata": {},
   "source": [
    "# Transformation (output)\n",
    "\n",
    "This notebook load our previously-ingested data and outputs Plotly figure JSON. This output can then be compiled into the website and rendered with Plotly.js"
   ]
  },
  {
   "cell_type": "code",
   "execution_count": null,
   "id": "ceb5d70b-7566-4ce5-81d7-f4644eebadd3",
   "metadata": {
    "tags": []
   },
   "outputs": [
    {
     "ename": "",
     "evalue": "",
     "output_type": "error",
     "traceback": [
      "\u001b[1;31mRunning cells with 'Python 3.10.4 64-bit' requires ipykernel package.\n",
      "\u001b[1;31mRun the following command to install 'ipykernel' into the Python environment. \n",
      "\u001b[1;31mCommand: '/bin/python3 -m pip install ipykernel -U --user --force-reinstall'"
     ]
    }
   ],
   "source": [
    "pip install ipykernel pandas numpy pyarrow plotly"
   ]
  },
  {
   "cell_type": "code",
   "execution_count": null,
   "id": "e8a48ea3-582f-4356-8edf-428e161203c9",
   "metadata": {},
   "outputs": [
    {
     "ename": "",
     "evalue": "",
     "output_type": "error",
     "traceback": [
      "\u001b[1;31mRunning cells with 'Python 3.10.4 64-bit' requires ipykernel package.\n",
      "\u001b[1;31mRun the following command to install 'ipykernel' into the Python environment. \n",
      "\u001b[1;31mCommand: '/bin/python3 -m pip install ipykernel -U --user --force-reinstall'"
     ]
    }
   ],
   "source": [
    "%load_ext autoreload\n",
    "%autoreload 2"
   ]
  },
  {
   "cell_type": "code",
   "execution_count": null,
   "id": "161cf64a-4237-4779-838c-eb0b246f4f5b",
   "metadata": {},
   "outputs": [
    {
     "ename": "",
     "evalue": "",
     "output_type": "error",
     "traceback": [
      "\u001b[1;31mRunning cells with 'Python 3.10.4 64-bit' requires ipykernel package.\n",
      "\u001b[1;31mRun the following command to install 'ipykernel' into the Python environment. \n",
      "\u001b[1;31mCommand: '/bin/python3 -m pip install ipykernel -U --user --force-reinstall'"
     ]
    }
   ],
   "source": [
    "import pandas as pd\n",
    "import plotly.express as px\n",
    "import plotly.io as pio\n",
    "import plotly.graph_objects as go\n",
    "\n",
    "# print(str(pio.templates['plotly']))\n",
    "\n",
    "pio.templates['p33'] = go.layout.Template(\n",
    "    layout=dict(\n",
    "        title=None,\n",
    "        showlegend=False,\n",
    "        colorway=['#0db296', '#1d59b8', '#981717', '#ff7213', '#ffa913'],\n",
    "        bargroupgap=0.025,\n",
    "        # bar_textinfo=['label', 'value']\n",
    "    )\n",
    ")\n",
    "\n",
    "pio.templates['draft'] = go.layout.Template(\n",
    "    layout_annotations=[\n",
    "        dict(\n",
    "            name=\"draft watermark\",\n",
    "            text=\"DRAFT\",\n",
    "            textangle=-30,\n",
    "            opacity=0.1,\n",
    "            font=dict(color=\"black\", size=100),\n",
    "            xref=\"paper\",\n",
    "            yref=\"paper\",\n",
    "            x=0.5,\n",
    "            y=0.5,\n",
    "            showarrow=False,\n",
    "        )\n",
    "    ]\n",
    ")\n",
    "pio.templates.default = \"p33+draft\"\n",
    "\n",
    "import pandas as pd\n",
    "import numpy as np\n",
    "\n",
    "df = pd.read_csv(f'../data/df_DEI_tidy_manuallrevised_0829.csv')\n",
    "df['var_ethnic'] = df.var_ethnic.str.lower()\n",
    "df = df[df.var_ethnic.isin(['hispanic', 'black', 'asian', 'white'])]\n",
    "df = df[df.var_yr == 2021]\n",
    "df = df[df.var_key == 'apcs_score5']\n",
    "df = df.sort_values(by='var_ethnic')\n",
    "df['group'] = df['var_ethnic']\n",
    "df['population'] = np.select([df.var_scope == 'usa', df.var_scope != 'usa'], [df.population / 100, df.population])\n",
    "df['area'] = np.select([df.var_scope == 'city_chi'], ['city of chicago'], default=df.var_scope)\n",
    "# display(df)\n",
    "fig = px.bar(df, x=df.area, y=df.population, color=df.group, barmode='group', text_auto=True)\n",
    "fig.update_traces(texttemplate='%{group} %{y}')\n",
    "fig.update_yaxes(title='population')\n",
    "fig\n",
    "# fig.layout.yaxis"
   ]
  },
  {
   "cell_type": "code",
   "execution_count": null,
   "id": "9a0a5348",
   "metadata": {},
   "outputs": [
    {
     "ename": "",
     "evalue": "",
     "output_type": "error",
     "traceback": [
      "\u001b[1;31mRunning cells with 'Python 3.10.4 64-bit' requires ipykernel package.\n",
      "\u001b[1;31mRun the following command to install 'ipykernel' into the Python environment. \n",
      "\u001b[1;31mCommand: '/bin/python3 -m pip install ipykernel -U --user --force-reinstall'"
     ]
    }
   ],
   "source": [
    "from ..create_figure_json import create_figure\n",
    "\n",
    "fig = create_figure()\n",
    "fig"
   ]
  }
 ],
 "metadata": {
  "kernelspec": {
   "display_name": "Python 3.10.6 ('base')",
   "language": "python",
   "name": "python3"
  },
  "language_info": {
   "codemirror_mode": {
    "name": "ipython",
    "version": 3
   },
   "file_extension": ".py",
   "mimetype": "text/x-python",
   "name": "python",
   "nbconvert_exporter": "python",
   "pygments_lexer": "ipython3",
   "version": "3.10.6"
  },
  "vscode": {
   "interpreter": {
    "hash": "d4d1e4263499bec80672ea0156c357c1ee493ec2b1c70f0acce89fc37c4a6abe"
   }
  }
 },
 "nbformat": 4,
 "nbformat_minor": 5
}
